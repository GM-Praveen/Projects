{
  "cells": [
    {
      "cell_type": "markdown",
      "metadata": {
        "id": "view-in-github",
        "colab_type": "text"
      },
      "source": [
        "<a href=\"https://colab.research.google.com/github/GM-Praveen/Projects/blob/main/simple_chatbot.ipynb\" target=\"_parent\"><img src=\"https://colab.research.google.com/assets/colab-badge.svg\" alt=\"Open In Colab\"/></a>"
      ]
    },
    {
      "cell_type": "code",
      "execution_count": 26,
      "metadata": {
        "id": "F4269gfNeJAs"
      },
      "outputs": [],
      "source": [
        "!pip install -q langchain faiss-cpu transformers pypdf unstructured nltk sentence-transformers"
      ]
    },
    {
      "cell_type": "code",
      "source": [
        "from google.colab import files\n",
        "uploaded = files.upload()\n",
        "file_paths = list(uploaded.keys())\n",
        "print(\"Uploaded:\", file_paths)"
      ],
      "metadata": {
        "id": "Do13cmxPZRwe",
        "outputId": "83876c60-8d70-4f9d-8126-e3976a4ab323",
        "colab": {
          "base_uri": "https://localhost:8080/",
          "height": 90
        }
      },
      "execution_count": 27,
      "outputs": [
        {
          "output_type": "display_data",
          "data": {
            "text/plain": [
              "<IPython.core.display.HTML object>"
            ],
            "text/html": [
              "\n",
              "     <input type=\"file\" id=\"files-e9849403-9251-4c6b-a110-700ab5c5e0e9\" name=\"files[]\" multiple disabled\n",
              "        style=\"border:none\" />\n",
              "     <output id=\"result-e9849403-9251-4c6b-a110-700ab5c5e0e9\">\n",
              "      Upload widget is only available when the cell has been executed in the\n",
              "      current browser session. Please rerun this cell to enable.\n",
              "      </output>\n",
              "      <script>// Copyright 2017 Google LLC\n",
              "//\n",
              "// Licensed under the Apache License, Version 2.0 (the \"License\");\n",
              "// you may not use this file except in compliance with the License.\n",
              "// You may obtain a copy of the License at\n",
              "//\n",
              "//      http://www.apache.org/licenses/LICENSE-2.0\n",
              "//\n",
              "// Unless required by applicable law or agreed to in writing, software\n",
              "// distributed under the License is distributed on an \"AS IS\" BASIS,\n",
              "// WITHOUT WARRANTIES OR CONDITIONS OF ANY KIND, either express or implied.\n",
              "// See the License for the specific language governing permissions and\n",
              "// limitations under the License.\n",
              "\n",
              "/**\n",
              " * @fileoverview Helpers for google.colab Python module.\n",
              " */\n",
              "(function(scope) {\n",
              "function span(text, styleAttributes = {}) {\n",
              "  const element = document.createElement('span');\n",
              "  element.textContent = text;\n",
              "  for (const key of Object.keys(styleAttributes)) {\n",
              "    element.style[key] = styleAttributes[key];\n",
              "  }\n",
              "  return element;\n",
              "}\n",
              "\n",
              "// Max number of bytes which will be uploaded at a time.\n",
              "const MAX_PAYLOAD_SIZE = 100 * 1024;\n",
              "\n",
              "function _uploadFiles(inputId, outputId) {\n",
              "  const steps = uploadFilesStep(inputId, outputId);\n",
              "  const outputElement = document.getElementById(outputId);\n",
              "  // Cache steps on the outputElement to make it available for the next call\n",
              "  // to uploadFilesContinue from Python.\n",
              "  outputElement.steps = steps;\n",
              "\n",
              "  return _uploadFilesContinue(outputId);\n",
              "}\n",
              "\n",
              "// This is roughly an async generator (not supported in the browser yet),\n",
              "// where there are multiple asynchronous steps and the Python side is going\n",
              "// to poll for completion of each step.\n",
              "// This uses a Promise to block the python side on completion of each step,\n",
              "// then passes the result of the previous step as the input to the next step.\n",
              "function _uploadFilesContinue(outputId) {\n",
              "  const outputElement = document.getElementById(outputId);\n",
              "  const steps = outputElement.steps;\n",
              "\n",
              "  const next = steps.next(outputElement.lastPromiseValue);\n",
              "  return Promise.resolve(next.value.promise).then((value) => {\n",
              "    // Cache the last promise value to make it available to the next\n",
              "    // step of the generator.\n",
              "    outputElement.lastPromiseValue = value;\n",
              "    return next.value.response;\n",
              "  });\n",
              "}\n",
              "\n",
              "/**\n",
              " * Generator function which is called between each async step of the upload\n",
              " * process.\n",
              " * @param {string} inputId Element ID of the input file picker element.\n",
              " * @param {string} outputId Element ID of the output display.\n",
              " * @return {!Iterable<!Object>} Iterable of next steps.\n",
              " */\n",
              "function* uploadFilesStep(inputId, outputId) {\n",
              "  const inputElement = document.getElementById(inputId);\n",
              "  inputElement.disabled = false;\n",
              "\n",
              "  const outputElement = document.getElementById(outputId);\n",
              "  outputElement.innerHTML = '';\n",
              "\n",
              "  const pickedPromise = new Promise((resolve) => {\n",
              "    inputElement.addEventListener('change', (e) => {\n",
              "      resolve(e.target.files);\n",
              "    });\n",
              "  });\n",
              "\n",
              "  const cancel = document.createElement('button');\n",
              "  inputElement.parentElement.appendChild(cancel);\n",
              "  cancel.textContent = 'Cancel upload';\n",
              "  const cancelPromise = new Promise((resolve) => {\n",
              "    cancel.onclick = () => {\n",
              "      resolve(null);\n",
              "    };\n",
              "  });\n",
              "\n",
              "  // Wait for the user to pick the files.\n",
              "  const files = yield {\n",
              "    promise: Promise.race([pickedPromise, cancelPromise]),\n",
              "    response: {\n",
              "      action: 'starting',\n",
              "    }\n",
              "  };\n",
              "\n",
              "  cancel.remove();\n",
              "\n",
              "  // Disable the input element since further picks are not allowed.\n",
              "  inputElement.disabled = true;\n",
              "\n",
              "  if (!files) {\n",
              "    return {\n",
              "      response: {\n",
              "        action: 'complete',\n",
              "      }\n",
              "    };\n",
              "  }\n",
              "\n",
              "  for (const file of files) {\n",
              "    const li = document.createElement('li');\n",
              "    li.append(span(file.name, {fontWeight: 'bold'}));\n",
              "    li.append(span(\n",
              "        `(${file.type || 'n/a'}) - ${file.size} bytes, ` +\n",
              "        `last modified: ${\n",
              "            file.lastModifiedDate ? file.lastModifiedDate.toLocaleDateString() :\n",
              "                                    'n/a'} - `));\n",
              "    const percent = span('0% done');\n",
              "    li.appendChild(percent);\n",
              "\n",
              "    outputElement.appendChild(li);\n",
              "\n",
              "    const fileDataPromise = new Promise((resolve) => {\n",
              "      const reader = new FileReader();\n",
              "      reader.onload = (e) => {\n",
              "        resolve(e.target.result);\n",
              "      };\n",
              "      reader.readAsArrayBuffer(file);\n",
              "    });\n",
              "    // Wait for the data to be ready.\n",
              "    let fileData = yield {\n",
              "      promise: fileDataPromise,\n",
              "      response: {\n",
              "        action: 'continue',\n",
              "      }\n",
              "    };\n",
              "\n",
              "    // Use a chunked sending to avoid message size limits. See b/62115660.\n",
              "    let position = 0;\n",
              "    do {\n",
              "      const length = Math.min(fileData.byteLength - position, MAX_PAYLOAD_SIZE);\n",
              "      const chunk = new Uint8Array(fileData, position, length);\n",
              "      position += length;\n",
              "\n",
              "      const base64 = btoa(String.fromCharCode.apply(null, chunk));\n",
              "      yield {\n",
              "        response: {\n",
              "          action: 'append',\n",
              "          file: file.name,\n",
              "          data: base64,\n",
              "        },\n",
              "      };\n",
              "\n",
              "      let percentDone = fileData.byteLength === 0 ?\n",
              "          100 :\n",
              "          Math.round((position / fileData.byteLength) * 100);\n",
              "      percent.textContent = `${percentDone}% done`;\n",
              "\n",
              "    } while (position < fileData.byteLength);\n",
              "  }\n",
              "\n",
              "  // All done.\n",
              "  yield {\n",
              "    response: {\n",
              "      action: 'complete',\n",
              "    }\n",
              "  };\n",
              "}\n",
              "\n",
              "scope.google = scope.google || {};\n",
              "scope.google.colab = scope.google.colab || {};\n",
              "scope.google.colab._files = {\n",
              "  _uploadFiles,\n",
              "  _uploadFilesContinue,\n",
              "};\n",
              "})(self);\n",
              "</script> "
            ]
          },
          "metadata": {}
        },
        {
          "output_type": "stream",
          "name": "stdout",
          "text": [
            "Saving 22AIM52_Module 1 (2).pptx to 22AIM52_Module 1 (2) (1).pptx\n",
            "Uploaded: ['22AIM52_Module 1 (2) (1).pptx']\n"
          ]
        }
      ]
    },
    {
      "cell_type": "code",
      "source": [
        "from langchain.document_loaders import TextLoader, PyPDFLoader, UnstructuredWordDocumentLoader, UnstructuredPowerPointLoader\n",
        "from langchain.text_splitter import RecursiveCharacterTextSplitter\n",
        "from langchain.embeddings import HuggingFaceEmbeddings\n",
        "from langchain.vectorstores import FAISS"
      ],
      "metadata": {
        "id": "8nGTPWR-ZX-Y"
      },
      "execution_count": 28,
      "outputs": []
    },
    {
      "cell_type": "code",
      "source": [
        "def load_document(file_path):\n",
        "    if file_path.endswith('.pdf'):\n",
        "        loader = PyPDFLoader(file_path)\n",
        "    elif file_path.endswith('.txt'):\n",
        "        loader = TextLoader(file_path)\n",
        "    elif file_path.endswith('.docx'):\n",
        "        loader = UnstructuredWordDocumentLoader(file_path)\n",
        "    elif file_path.endswith('.pptx'):\n",
        "        loader = UnstructuredPowerPointLoader(file_path)\n",
        "    else:\n",
        "        print(f\"Unsupported file type: {file_path}\")\n",
        "        return []\n",
        "    return loader.load()"
      ],
      "metadata": {
        "id": "BVx8Eh6UZdIP"
      },
      "execution_count": 29,
      "outputs": []
    },
    {
      "cell_type": "code",
      "source": [
        "all_docs = []\n",
        "for file_path in file_paths:\n",
        "    docs = load_document(file_path)\n",
        "    all_docs.extend(docs)"
      ],
      "metadata": {
        "id": "3UEHZaufZdOX"
      },
      "execution_count": 30,
      "outputs": []
    },
    {
      "cell_type": "code",
      "source": [
        "text_splitter = RecursiveCharacterTextSplitter(chunk_size=500, chunk_overlap=100)\n",
        "documents = text_splitter.split_documents(docs)"
      ],
      "metadata": {
        "id": "eYwkBEtsZkkv"
      },
      "execution_count": 32,
      "outputs": []
    },
    {
      "cell_type": "code",
      "source": [
        "embeddings = HuggingFaceEmbeddings(model_name=\"sentence-transformers/all-MiniLM-L6-v2\")\n",
        "db = FAISS.from_documents(documents, embeddings)"
      ],
      "metadata": {
        "id": "xz9Rl-_WZpUI",
        "outputId": "7d777186-83d0-41c4-b539-5d8cbb9be54f",
        "colab": {
          "base_uri": "https://localhost:8080/"
        }
      },
      "execution_count": 33,
      "outputs": [
        {
          "output_type": "stream",
          "name": "stderr",
          "text": [
            "/usr/local/lib/python3.11/dist-packages/torch/nn/modules/module.py:1750: FutureWarning: `encoder_attention_mask` is deprecated and will be removed in version 4.55.0 for `BertSdpaSelfAttention.forward`.\n",
            "  return forward_call(*args, **kwargs)\n"
          ]
        }
      ]
    },
    {
      "cell_type": "code",
      "source": [
        "def chatbot_query(query):\n",
        "    results = db.similarity_search_with_score(query, k=3)\n",
        "    threshold = 0.8\n",
        "\n",
        "    filtered = [doc for doc, score in results if score < threshold]\n",
        "\n",
        "    if not filtered:\n",
        "        return \"Sorry, topic not found.\"\n",
        "\n",
        "    answer = \"\\n---\\n\".join([doc.page_content for doc in filtered])\n",
        "    return f\"Top relevant parts:\\n\\n{answer}\""
      ],
      "metadata": {
        "id": "nA4Q_KoNZtLU"
      },
      "execution_count": 34,
      "outputs": []
    },
    {
      "cell_type": "code",
      "source": [
        "print(\"Bot: Hey, hi there! Ask questions only from given file?\")\n",
        "\n",
        "while True:\n",
        "    query = input(\"You: \")\n",
        "    if query.lower() in ['exit', 'quit']:\n",
        "        print(\"Bot: Goodbye! Have a great day!\")\n",
        "        break\n",
        "    response = chatbot_query(query)\n",
        "    print(\"Bot:\", response)"
      ],
      "metadata": {
        "id": "b8P5KudKZ6QX",
        "outputId": "c6f8cd57-fe35-4757-b310-9c7e7c823452",
        "colab": {
          "base_uri": "https://localhost:8080/"
        }
      },
      "execution_count": null,
      "outputs": [
        {
          "output_type": "stream",
          "name": "stdout",
          "text": [
            "Bot: Hey, hi there! Ask questions only from given file?\n",
            "You: what is machine learning\n",
            "Bot: Top relevant parts:\n",
            "\n",
            "Figure 1: Diagram representing difference between Algorithmic and ML based solution\n",
            "\n",
            "\n",
            "\n",
            "Definition of Machine Learning\n",
            "\n",
            "Machine Learning explores algorithms that can\n",
            "\n",
            "learn from data / build a model from data\n",
            "\n",
            "use the model for prediction, decision making or solving some tasks\n",
            "---\n",
            "In supervised learning, the model learns from input-output pairs, meaning it is provided with both the input data (features) and the corresponding correct output (labels). \n",
            "\n",
            "\n",
            "\n",
            "Supervised learning algorithms are used when the output is classified or labeled.\n",
            "\n",
            "These algorithms learn from the past data that is inputted, called training data, runs its analysis and uses this analysis to predict future events of any new data within the known classifications.\n",
            "---\n",
            "use the model for prediction, decision making or solving some tasks\n",
            "\n",
            "Machine learning (ML) is defined as a discipline of artificial intelligence (AI) that provides machines the ability to automatically learn from data and past experiences to identify patterns and make predictions with minimal human intervention. \n",
            "\n",
            "A weather prediction model trained on historical weather data can predict future weather based on current conditions.\n",
            "You: applications of machine learning\n",
            "Bot: Sorry, topic not found.\n",
            "You: types of machine learning\n",
            "Bot: Top relevant parts:\n",
            "\n",
            "Technology used : Sequence-to-Sequence Models:\n",
            "\n",
            "These models encode the input sentence into a fixed-length vector and then decode this vector into a sentence in the target language. They use techniques like Long Short-Term Memory (LSTM) or Transformer networks.\n",
            "\n",
            "\n",
            "\n",
            "Types of Machine Learning\u000b\n",
            "\n",
            "\n",
            "\n",
            "Supervised Machine Learning\n",
            "\n",
            "Supervised learning is a type of machine learning where an algorithm is trained on a labeled dataset.\n",
            "---\n",
            "Algorithms Used:\u000b\n",
            "\n",
            "Linear Regression (for regression tasks)\n",
            "\n",
            "Logistic Regression (for classification tasks)\n",
            "\n",
            "Decision Trees\n",
            "\n",
            "Random Forest\n",
            "\n",
            "Support Vector Machines (SVM)\n",
            "\n",
            "Examples: \n",
            "\n",
            "Spam detection (classifying emails as spam or not)\n",
            "\n",
            "Image classification (identifying objects in images)\n",
            "\n",
            "Predicting stock prices (regression tasks)\n",
            "\n",
            "Sentiment analysis (categorizing text as positive, neutral, or negative)\n",
            "\n",
            "\n",
            "\n",
            "Unsupervised Machine Learning\n",
            "You: what is confusion matrix\n",
            "Bot: Top relevant parts:\n",
            "\n",
            "A confusion matrix is defined as the table that is often used to describe the performance of a classification model on a set of the test data for which the true values are known.\n",
            "\n",
            "Let’s take an example of a patient who has gone to a doctor with certain symptoms. Since it’s the season of Covid, let’s assume that he went with fever, cough, throat ache, and cold. These are symptoms that can occur during any seasonal changes too. Hence, it is tricky for the doctor to do the right diagnosis.\n",
            "\n",
            "39\n",
            "---\n",
            "First, these models are trained over a set of data, and then they are provided an algorithm to reason over data, extract the pattern from feed data and learn from those data.\n",
            "\n",
            " Once these models get trained, they can be used to predict the unseen dataset.\n",
            "\n",
            "\n",
            "\n",
            "Confusion Matrix\u000b\n",
            "\n",
            "Confusion Matrix is a performance measurement for the machine learning classification problems where the output can be two or more classes. It is a table with combinations of predicted and actual values.\n"
          ]
        }
      ]
    }
  ],
  "metadata": {
    "colab": {
      "provenance": [],
      "gpuType": "T4",
      "authorship_tag": "ABX9TyMc3ZjymCD0BRCE83hZrcvf",
      "include_colab_link": true
    },
    "kernelspec": {
      "display_name": "Python 3",
      "name": "python3"
    },
    "language_info": {
      "name": "python"
    },
    "accelerator": "GPU"
  },
  "nbformat": 4,
  "nbformat_minor": 0
}